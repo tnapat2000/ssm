{
 "cells": [
  {
   "cell_type": "markdown",
   "metadata": {},
   "source": [
    "## 4.3 Monte Carlo Simulation of the Ising Model\n",
    "\n",
    "The Ising Model is a simplified version of a ferromagnet - where the structure of the material consist of a single dipole per lattice site. The overall magnetization of the material is determined by the number of dipoles that are aligned parallel to one-another. The Ising Model is a beautifully simpl demonstration of the implications of statistical mechanics and phase transitions - as well a being an fantastic example of the power of Monte Carlo Simulations."
   ]
  },
  {
   "cell_type": "markdown",
   "metadata": {},
   "source": [
    "### Model descriptions\n",
    "\n",
    "1. Create a 2D lattice using 2D array of size 50x50\n",
    "\n",
    "2. Fill the arrays with spin states using -1 or +1 randomly\n",
    "\n",
    "3. Randomly select an element from the 2D lattice\n",
    "\n",
    "4. Flip the spin state of the selected element and calculate the change in energy due to the flipping process:\n",
    "    \n",
    "    $${E_{mn}} =  - 2\\sum\\limits_{ij} {{s_{ij}}{s_{mn}}} $$\n",
    "\n",
    "5. if ${E_{mn}} \\le 0$ then the spin is permanently flipped,\n",
    "   else calculate the Boltzmann's probability, $p$:\n",
    "   \n",
    "   $$p = {e^{ - \\beta {E_{mn}}}}$$\n",
    " \n",
    "    random a number $x$ btween 0 and 1:\n",
    "\n",
    "    if $x \\le p$ then spin is permanently flipped.\n",
    "\n",
    "    otherwise, spin returns to its original state.\n",
    "    \n",
    "6. Plot 2D grid\n",
    "\n",
    "7. Repeat step 3 for 100,000 times"
   ]
  },
  {
   "cell_type": "code",
   "execution_count": null,
   "metadata": {},
   "outputs": [],
   "source": []
  },
  {
   "cell_type": "code",
   "execution_count": null,
   "metadata": {
    "collapsed": true
   },
   "outputs": [],
   "source": []
  }
 ],
 "metadata": {
  "kernelspec": {
   "display_name": "Python 3",
   "language": "python",
   "name": "python3"
  },
  "language_info": {
   "codemirror_mode": {
    "name": "ipython",
    "version": 3
   },
   "file_extension": ".py",
   "mimetype": "text/x-python",
   "name": "python",
   "nbconvert_exporter": "python",
   "pygments_lexer": "ipython3",
   "version": "3.8.5"
  }
 },
 "nbformat": 4,
 "nbformat_minor": 1
}
