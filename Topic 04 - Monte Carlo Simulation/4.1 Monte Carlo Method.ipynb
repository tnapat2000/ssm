{
 "cells": [
  {
   "cell_type": "markdown",
   "metadata": {},
   "source": [
    "## 4.1 Monte Carlo Method\n",
    "\n",
    "Monte Carlo methods are a broad class of computational algorithms that rely on repeated random sampling to obtain numerical results. They are often used in physical and mathematical problems and are most useful when it is difficult or impossible to use other mathematical methods.\n",
    "\n",
    "In physics-related problems, Monte Carlo methods are quite useful for simulating systems with many coupled degrees of freedom, such as fluids, disordered materials, strongly coupled solids, and cellular structures. Other examples include modeling phenomena with significant uncertainty in inputs such as the calculation of risk in business and, in math, evaluation of multidimensional definite integrals with complicated boundary conditions. In application to space and oil exploration problems, Monte Carlo–based predictions of failure, cost overruns and schedule overruns are routinely better than human intuition or alternative \"soft\" methods.\n",
    "\n",
    "In principle, Monte Carlo methods can be used to solve any problem having a probabilistic interpretation."
   ]
  },
  {
   "cell_type": "markdown",
   "metadata": {},
   "source": [
    "### 4.1.1 Random number generator\n",
    "\n",
    "Generating random numbers is inherently difficult. We generally can't create randomness on our own. If you asked the average student to draw 200 random dots on a rectangle, they'd end up much more evenly separated than the true random points.\n",
    "Adding to the difficulty with Monte Carlo techniques is the issue of trying to generate something random with computers, which are inherently nonrandom devices. There are physical sources of random numbers, such as the time between decay events in a radioactive sample, but it's hard to collect enough of these fast enough for what we need.\n",
    "\n",
    "We generally give up on truly random numbers, and use **Pseudo-Random** sequences of numbers instead. If the sequence of numbers meets the certain criteria, then they'll do the job even if they aren't technically random.\n",
    "\n",
    "Here are example of random number generator functions:"
   ]
  },
  {
   "cell_type": "code",
   "execution_count": 11,
   "metadata": {},
   "outputs": [
    {
     "name": "stdout",
     "output_type": "stream",
     "text": [
      "0.092304660487322\n",
      "5.698108330320082\n",
      "3.763578598322774\n",
      "5\n"
     ]
    }
   ],
   "source": [
    "import random\n",
    "\n",
    "a = 2\n",
    "b = 10\n",
    "mu = 5\n",
    "sigma = 2\n",
    "\n",
    "print(random.random()) # generates a random float between 0 and 1\n",
    "\n",
    "print(random.uniform(a , b)) # generates a random float on the range [a , b).\n",
    "\n",
    "print(random.gauss(mu, sigma)) # returns points with gaussian distribution centered on mu, with width sigma\n",
    "\n",
    "print(random.randint(a, b)) # random integer on range [a , b]"
   ]
  },
  {
   "cell_type": "markdown",
   "metadata": {},
   "source": [
    "---\n",
    "### Exercise 4.1.1 - Generating random numbers with Numpy\n",
    "\n",
    "Examine the Numpy library for generating various random numbers."
   ]
  },
  {
   "cell_type": "code",
   "execution_count": null,
   "metadata": {},
   "outputs": [],
   "source": []
  },
  {
   "cell_type": "markdown",
   "metadata": {},
   "source": [
    "---\n",
    "### Exercise 4.1.2 - Distributions of Random vs Uniform vs Gaussian\n",
    "\n",
    "Use those functions to plot the distribution of the random number between 0 and 1. For Gaussian random distribution, use $\\mu = 0.5$ and $\\sigma = 1$ (standard normal distribution).\n",
    "\n",
    "[Hint: since random number generator function only give us the values, to plot the distribution, we need to do a histogram plot. However, if the width of each histogram column is small, it will look like a continous function]"
   ]
  },
  {
   "cell_type": "code",
   "execution_count": null,
   "metadata": {},
   "outputs": [],
   "source": []
  },
  {
   "cell_type": "markdown",
   "metadata": {},
   "source": [
    "---\n",
    "### 4.1.2 - Integration\n",
    "\n",
    "Yes, this is area integration!!\n",
    "\n",
    "Why would one need do an integration using Monte Carlo Method? - Some problem cannot be integrated directly.\n",
    "\n",
    "Is integrating with Monte Carlo method accurate? - In general, the error of Monte Carlo method scale roughly with $1/\\sqrt{N}$ so it requires a large number of samples in order to reduce the error. Hence, it is a very computationally expensive technique."
   ]
  },
  {
   "cell_type": "markdown",
   "metadata": {},
   "source": [
    "---\n",
    "### Exercise 4.1.3 - Find area\n",
    "\n",
    "Given that the curve is $y = x^2$. Find the area under the curve between 0 to 3 using Monte Carlo method."
   ]
  },
  {
   "cell_type": "code",
   "execution_count": null,
   "metadata": {},
   "outputs": [],
   "source": []
  },
  {
   "cell_type": "markdown",
   "metadata": {},
   "source": [
    "---\n",
    "### Exercise 4.1.4 - Find area of a circle\n",
    "\n",
    "Find area of a circle of radius 2 using Monte Carlo method. Compare it to the actual formula for area."
   ]
  },
  {
   "cell_type": "code",
   "execution_count": null,
   "metadata": {},
   "outputs": [],
   "source": []
  },
  {
   "cell_type": "markdown",
   "metadata": {},
   "source": [
    "---\n",
    "### Exercise 4.1.5 - Find volume of a sphere\n",
    "\n",
    "Find volume of a sphere of radius 1 using Monte Carlo method. Then use result to determine the value of $\\pi$.\n",
    "\n",
    "Suggest similar integral to determine the value of $\\pi$ using this technique."
   ]
  },
  {
   "cell_type": "code",
   "execution_count": null,
   "metadata": {},
   "outputs": [],
   "source": []
  },
  {
   "cell_type": "markdown",
   "metadata": {},
   "source": [
    "---\n",
    "### Exercise 4.1.6 - Find error of Monte Carlo method\n",
    "\n",
    "We will use the code in exercise 6.1.4 to find the value of $\\pi$.\n",
    "\n",
    "The error of Monte Carlo method is the stanard deviation of the values of $\\pi$ from repeated simulations.\n",
    "\n",
    "Plot distribution of values of $\\pi$ for various number of trials.\n",
    "\n",
    "Report the estimate error of your result. How would you reduce the error?"
   ]
  },
  {
   "cell_type": "code",
   "execution_count": null,
   "metadata": {},
   "outputs": [],
   "source": []
  }
 ],
 "metadata": {
  "kernelspec": {
   "display_name": "Python 3",
   "language": "python",
   "name": "python3"
  },
  "language_info": {
   "codemirror_mode": {
    "name": "ipython",
    "version": 3
   },
   "file_extension": ".py",
   "mimetype": "text/x-python",
   "name": "python",
   "nbconvert_exporter": "python",
   "pygments_lexer": "ipython3",
   "version": "3.8.5"
  }
 },
 "nbformat": 4,
 "nbformat_minor": 1
}
