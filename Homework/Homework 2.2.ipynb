{
 "cells": [
  {
   "cell_type": "markdown",
   "metadata": {},
   "source": [
    "### Homework 2.2 - Heat Transfer\n",
    "\n",
    "Use the finite differential method to solve a heat transfer equation, given by\n",
    "\n",
    "$$ \\frac{{\\partial T}}{{\\partial t}} = k\\frac{{{\\partial ^2}T}}{{\\partial {x^2}}} $$\n",
    "\n",
    "where $T(t, x)$ is the temperature distribution function.\n",
    "\n",
    "Solve the equation for $x$ between 0 and 1. At $x=0$ the temperature varies as $T(t,0)=sin(10t)$ and at At $x=1$ the temperature varies as $T(t,0)=e^{ - 100 (t - 0.15)^2}$.\n",
    "\n",
    "Make the animated clip of the temperature distribution function evolution. Pick appropriate time range."
   ]
  },
  {
   "cell_type": "code",
   "execution_count": 2,
   "metadata": {},
   "outputs": [],
   "source": [
    "import numpy as np\n",
    "import matplotlib.pyplot as plt\n",
    "import matplotlib.animation as animation\n",
    "#%matplotlib inline"
   ]
  },
  {
   "cell_type": "code",
   "execution_count": null,
   "metadata": {},
   "outputs": [],
   "source": [
    "N=25\n",
    "L = 1\n",
    "\n",
    "x = np.linspace(0,1, num=N + 1, endpoint=True)\n",
    "Tx0 = np.zeros(N+1)\n",
    "\n",
    "# ensuring both ends are fixed at zero\n",
    "\n",
    "Told = Tx0\n",
    "# Set up initial condition for the time derivative at t = 0\n",
    "dTx0 = np.zeros(N+1)\n",
    "\n",
    "k = 0.002\n",
    "dt = 0.01 # Set up time step size\n",
    "eta = L/N # Spatial step size\n",
    "\n",
    "eps = (k*eta/(dt**2))\n",
    "\n",
    "# Calculate time step j = 1\n",
    "Txj = np.zeros(N+1)\n",
    "for i in np.linspace(1, N-1, N-1, dtype=int):\n",
    "    Txj[i] = 0.5*eps*(Tx0[i+1] + Tx0[i-1]) + (1. - eps)*(Tx0[i]) + dTx0[i]*dt\n",
    "\n",
    "TAll = np.array([Txj])\n",
    "fig1 = plt.figure()\n",
    "l = plt.plot(x, Txj)\n",
    "axes = plt.gca()\n",
    "axes.set_ylim([-3,3])\n",
    "# axes.set_xlim([-3,3])\n",
    "\n",
    "for j in range(200):\n",
    "    Tnew = np.zeros(N+1)\n",
    "    Tnew[0] = np.sin(10*j*dt)\n",
    "    Tnew[-1] = np.exp(-100*(j*dt-0.15)**2)\n",
    "    for i in np.linspace(1, N-1, N-1, dtype=int):\n",
    "        Tnew[i] = eps*(Txj[i+1] -2*Txj[i]+ Txj[i-1]) + Txj[i]\n",
    "    Told = Txj\n",
    "    Txj = Tnew\n",
    "    TAll = np.vstack([TAll, Tnew])\n",
    "\n",
    "def update_line(num, line):\n",
    "    line.set_data(x, TAll[num])\n",
    "    return line,\n",
    "\n",
    "line_ani = animation.FuncAnimation(fig1, update_line, 200, fargs=(l), interval=20, blit=True)\n",
    "# line_ani.save('wave-in-string.mp4', fps=30, extra_args=['-vcodec', 'libx264'])\n",
    "writergif = animation.PillowWriter(fps=30)\n",
    "line_ani.save('2-2_wave.gif',writer=writergif)\n",
    "plt.show()"
   ]
  },
  {
   "cell_type": "code",
   "execution_count": null,
   "metadata": {},
   "outputs": [],
   "source": []
  }
 ],
 "metadata": {
  "kernelspec": {
   "display_name": "Python 3",
   "language": "python",
   "name": "python3"
  },
  "language_info": {
   "codemirror_mode": {
    "name": "ipython",
    "version": 3
   },
   "file_extension": ".py",
   "mimetype": "text/x-python",
   "name": "python",
   "nbconvert_exporter": "python",
   "pygments_lexer": "ipython3",
   "version": "3.8.5"
  }
 },
 "nbformat": 4,
 "nbformat_minor": 5
}
